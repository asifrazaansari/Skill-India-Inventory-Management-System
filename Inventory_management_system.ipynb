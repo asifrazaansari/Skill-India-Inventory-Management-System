{
  "nbformat": 4,
  "nbformat_minor": 0,
  "metadata": {
    "colab": {
      "name": "Inventory management system.ipynb",
      "provenance": [],
      "authorship_tag": "ABX9TyNTrE4TXIFDENwzcJIKOCVT",
      "include_colab_link": true
    },
    "kernelspec": {
      "name": "python3",
      "display_name": "Python 3"
    },
    "language_info": {
      "name": "python"
    }
  },
  "cells": [
    {
      "cell_type": "markdown",
      "metadata": {
        "id": "view-in-github",
        "colab_type": "text"
      },
      "source": [
        "<a href=\"https://colab.research.google.com/github/asifrazaansari/Skill-India-Inventory-Management-System/blob/master/Inventory_management_system.ipynb\" target=\"_parent\"><img src=\"https://colab.research.google.com/assets/colab-badge.svg\" alt=\"Open In Colab\"/></a>"
      ]
    },
    {
      "cell_type": "markdown",
      "metadata": {
        "id": "k7FS9JNFwhh8"
      },
      "source": [
        "# **Inventory Management System - ETG Skill India Project** \n"
      ]
    },
    {
      "cell_type": "code",
      "metadata": {
        "id": "nA2HXjrMyvD7"
      },
      "source": [
        "import json\n",
        "import datetime"
      ],
      "execution_count": 30,
      "outputs": []
    },
    {
      "cell_type": "code",
      "metadata": {
        "colab": {
          "base_uri": "https://localhost:8080/"
        },
        "id": "7W-kEBNsynqk",
        "outputId": "6f363f31-c4dd-4d1d-8ae8-2547a6c428ee"
      },
      "source": [
        "with open('Inventory_records.json', 'r') as fd:\n",
        "        purchase_records = json.load(fd)\n",
        "        for item in purchase_records:\n",
        "            print(f\"Item Id:{item}\\nItem Discription:{purchase_records[item]}\")"
      ],
      "execution_count": 31,
      "outputs": [
        {
          "output_type": "stream",
          "name": "stdout",
          "text": [
            "Item Id:001\n",
            "Item Discription:{'Item Name': 'wadapav', 'Item Quantity': '100', 'Item Rate': '15', 'Item Category': 'piece'}\n",
            "Item Id:002\n",
            "Item Discription:{'Item Name': 'samosa', 'Item Quantity': '70', 'Item Rate': '10', 'Item Category': 'piece'}\n",
            "Item Id:003\n",
            "Item Discription:{'Item Name': 'momos', 'Item Quantity': '50', 'Item Rate': '130', 'Item Category': 'plate'}\n",
            "Item Id:004\n",
            "Item Discription:{'Item Name': 'Chilli Potato', 'Item Quantity': '150', 'Item Rate': '150', 'Item Category': 'plate'}\n",
            "Item Id:005\n",
            "Item Discription:{'Item Name': 'veg momos', 'Item Quantity': '50', 'Item Rate': '120', 'Item Category': 'plate'}\n",
            "Item Id:006\n",
            "Item Discription:{'Item Name': 'Veggie', 'Item Quantity': '70', 'Item Rate': '65', 'Item Category': 'plate'}\n",
            "Item Id:007\n",
            "Item Discription:{'Item Name': 'Chicken', 'Item Quantity': '170', 'Item Rate': '79', 'Item Category': 'piece'}\n",
            "Item Id:008\n",
            "Item Discription:{'Item Name': 'Mcmuffin Veg Meal', 'Item Quantity': '200', 'Item Rate': '95', 'Item Category': 'plate'}\n",
            "Item Id:009\n",
            "Item Discription:{'Item Name': 'Egg & Cheese Mcmuffin  ', 'Item Quantity': '50', 'Item Rate': '93', 'Item Category': 'plate'}\n",
            "Item Id:010\n",
            "Item Discription:{'Item Name': 'filet-o-fish', 'Item Quantity': '25', 'Item Rate': '95', 'Item Category': 'plate'}\n",
            "Item Id:011\n",
            "Item Discription:{'Item Name': 'Vegetarian footlong', 'Item Quantity': '75', 'Item Rate': '75', 'Item Category': 'plate'}\n",
            "Item Id:012\n",
            "Item Discription:{'Item Name': 'Footlong', 'Item Quantity': '95', 'Item Rate': '95', 'Item Category': 'plate'}\n",
            "Item Id:013\n",
            "Item Discription:{'Item Name': 'Egg & Cheese', 'Item Quantity': '70', 'Item Rate': '20', 'Item Category': 'plate'}\n",
            "Item Id:014\n",
            "Item Discription:{'Item Name': 'Bacon & Egg', 'Item Quantity': '70', 'Item Rate': '20', 'Item Category': 'plate'}\n",
            "Item Id:015\n",
            "Item Discription:{'Item Name': 'noodles', 'Item Quantity': '70', 'Item Rate': '20', 'Item Category': 'plate'}\n",
            "Item Id:016\n",
            "Item Discription:{'Item Name': 'Chicken Ham & Egg', 'Item Quantity': '70', 'Item Rate': '20', 'Item Category': 'plate'}\n",
            "Item Id:017\n",
            "Item Discription:{'Item Name': 'Econo Meal (McAloo Tikki + Small Fries + Coke)', 'Item Quantity': '250', 'Item Rate': '250', 'Item Category': 'plate'}\n",
            "Item Id:018\n",
            "Item Discription:{'Item Name': 'Chicken Mcnuggets 6 Pcs', 'Item Quantity': '40', 'Item Rate': '95', 'Item Category': 'piece'}\n",
            "Item Id:019\n",
            "Item Discription:{'Item Name': 'Happy Meal (Burger + Coke + Toy)', 'Item Quantity': '170', 'Item Rate': '200', 'Item Category': 'plate'}\n",
            "Item Id:020\n",
            "Item Discription:{'Item Name': 'Soft Serve (Strawberry / Chocolate)', 'Item Quantity': '250', 'Item Rate': '55', 'Item Category': 'plate'}\n",
            "Item Id:021\n",
            "Item Discription:{'Item Name': 'Chocolate Brownie', 'Item Quantity': '700', 'Item Rate': '20', 'Item Category': 'ice-cream'}\n",
            "Item Id:022\n",
            "Item Discription:{'Item Name': 'Shakes (small)', 'Item Quantity': '10', 'Item Rate': '60', 'Item Category': 'shake'}\n",
            "Item Id:023\n",
            "Item Discription:{'Item Name': 'Croissant Garden Veg Sandwich', 'Item Quantity': '80', 'Item Rate': '25', 'Item Category': 'plate'}\n",
            "Item Id:024\n",
            "Item Discription:{'Item Name': 'Focaccia Bunwich', 'Item Quantity': '70', 'Item Rate': '90', 'Item Category': 'plate'}\n",
            "Item Id:025\n",
            "Item Discription:{'Item Name': ' Potato Crisper', 'Item Quantity': '50', 'Item Rate': '25', 'Item Category': 'plate'}\n"
          ]
        }
      ]
    },
    {
      "cell_type": "code",
      "metadata": {
        "id": "9bVEh3tn1qDS"
      },
      "source": [
        "def sales_func(data,date):\n",
        "    try:\n",
        "        with open('sales_register.json', 'r') as sr:\n",
        "            sales = json.load(sr)\n",
        "            sales[date] = data\n",
        "    except IOError:\n",
        "        sales = {date:data}\n",
        "    with open('sales_register.json', 'w') as sr:\n",
        "        json.dump(sales, sr, indent=4)\n",
        "        "
      ],
      "execution_count": 32,
      "outputs": []
    },
    {
      "cell_type": "code",
      "metadata": {
        "colab": {
          "base_uri": "https://localhost:8080/"
        },
        "id": "fg5dgO321-iS",
        "outputId": "310e2b60-1509-4df7-c8cd-93e41f421b81"
      },
      "source": [
        "def update_records(itemid,quantity):   #update inventory records\n",
        "    try:\n",
        "        with open('Inventory_records.json', 'r') as sr:\n",
        "            purchase_records = json.load(sr)\n",
        "            old_record = purchase_records[itemid]\n",
        "            old_record[attr[1]] =int(old_record[attr[1]])-quantity\n",
        "            purchase_records[itemid] =old_record \n",
        "    except IOError:\n",
        "        print(\"Inventory data not found\")\n",
        "    with open('Inventory_records.json', 'w') as sr:\n",
        "        json.dump(purchase_records, sr, indent=4)\n",
        "    \n",
        "itemid = input(\"Please Input Item Id for Purchase: \")\n",
        "attr = [\"Item Name\", \"Item Quantity\",\"Item Rate\",\"Item Category\"]\n",
        "\n",
        "if itemid in purchase_records:\n",
        "    print(f\"Item Found\\n{purchase_records[itemid]}\")\n",
        "    itemname = purchase_records[itemid][attr[0]]\n",
        "    quantity = int(input(\"Please Input Item Quantity: \"))\n",
        "    rate = float(purchase_records[itemid][attr[2]])\n",
        "    amount = rate *float(quantity)\n",
        "        \n",
        "    print(f\"Payable Amount: {amount}\\n****Thank you for your purchase****\")\n",
        "    sales_data = {attr[0]:itemname,attr[1]:quantity,attr[2]:rate,\"Amount\":amount}\n",
        "    sale_date = str(datetime.datetime.now())\n",
        "    sales_func(sales_data,sale_date)\n",
        "    update_records(itemid,quantity)\n",
        "    \n",
        "else:\n",
        "    print(\"Item not found, please input correct id\")"
      ],
      "execution_count": 33,
      "outputs": [
        {
          "output_type": "stream",
          "name": "stdout",
          "text": [
            "Please Input Item Id for Purchase: 007\n",
            "Item Found\n",
            "{'Item Name': 'Chicken', 'Item Quantity': '170', 'Item Rate': '79', 'Item Category': 'piece'}\n",
            "Please Input Item Quantity: 50\n",
            "Payable Amount: 3950.0\n",
            "****Thank you for your purchase****\n"
          ]
        }
      ]
    },
    {
      "cell_type": "code",
      "metadata": {
        "colab": {
          "base_uri": "https://localhost:8080/"
        },
        "id": "4Vwig8CoygTn",
        "outputId": "7c8c8012-0679-4819-e1bc-c5364e4f4050"
      },
      "source": [
        "#Add or Update Inventory data\n",
        "import json\n",
        "item_id  = input(\"Please input Item id: \")\n",
        "attr = [\"Item Name\", \"Item Quantity\",\"Item Rate\",\"Item Category\"]\n",
        "try:\n",
        "    with open('Inventory_records.json', 'r') as fp:\n",
        "        records = json.load(fp)\n",
        "    if item_id in records:\n",
        "        print(f\"***Update your inventory***\\n1.{attr[0]}\\n2.{attr[1]}\\n3.{attr[2]}\\n4.{attr[3]}\")\n",
        "        choice = int(input(\"\\n\\nEnter your choice: \"))\n",
        "        item_data  = records[item_id]\n",
        "        if choice == 1:\n",
        "            item_data[attr[0]] =input(f\"Please update new {attr[0]} : \")\n",
        "            print(f\"{attr[0]} update successfully\")\n",
        "            \n",
        "        elif choice == 2:\n",
        "            item_data[attr[1]] =input(f\"Please update new {attr[1]}: \")\n",
        "            print(f\"{attr[1]} update successfully\")\n",
        "            \n",
        "        elif choice == 3:\n",
        "            item_data[attr[2]] =input(f\"Please update new {attr[2]}: \")\n",
        "            print(f\"{attr[2]} update successfully\")\n",
        "      \n",
        "        elif choice == 4:\n",
        "            item_data[attr[3]] =input(f\"Please update new {attr[3]}: \")\n",
        "            print(f\"{attr[3]} update successfully\")\n",
        "        else:\n",
        "            print(\"Enter correct choice\")\n",
        "    else:\n",
        "        print(\"Item not found please add new values\")\n",
        "        item_data = {}\n",
        "        for i in range(4):\n",
        "            item_data[attr[i]] = input(f\"Please enter {attr[i]}: \")\n",
        "        records[item_id] = item_data\n",
        "        print(\"Item saved Successfully!!!\")\n",
        "except IOError:\n",
        "    print('File not found, will create a new one.')\n",
        "    records = {}\n",
        "    item_data = {}\n",
        "    for i in range(4):\n",
        "        item_data[attr[i]] = input(f\"Please enter {attr[i]}: \")\n",
        "    records[item_id] = item_data\n",
        "    print(\"Item saved Successfully!!!\")\n",
        "with open('Inventory_records.json', 'w') as fp:\n",
        "    json.dump(records, fp, indent=4)"
      ],
      "execution_count": 34,
      "outputs": [
        {
          "output_type": "stream",
          "name": "stdout",
          "text": [
            "Please input Item id: 026\n",
            "Item not found please add new values\n",
            "Please enter Item Name: Paprika Salami \n",
            "Please enter Item Quantity: 25\n",
            "Please enter Item Rate: 100\n",
            "Please enter Item Category: plate\n",
            "Item saved Successfully!!!\n"
          ]
        }
      ]
    },
    {
      "cell_type": "code",
      "metadata": {
        "colab": {
          "base_uri": "https://localhost:8080/"
        },
        "id": "oHBXgmVq3OkZ",
        "outputId": "19a848db-d70d-4c35-8191-0eac2eac5f40"
      },
      "source": [
        "#View Sales Register\n",
        "with open('sales_register.json', 'r') as fp:\n",
        "        sale_records = json.load(fp)\n",
        "        for sale in sale_records:\n",
        "            print(f\"Sale Date:{sale}\\nsale Discription:{sale_records[sale]}\")"
      ],
      "execution_count": 36,
      "outputs": [
        {
          "output_type": "stream",
          "name": "stdout",
          "text": [
            "Sale Date:2021-09-01 23:16:39.504696\n",
            "sale Discription:{'Item Name': 'samosa', 'Item Quantity': 2, 'Item Rate': 10.0, 'Amount': 20.0}\n",
            "Sale Date:2021-09-02 23:17:06.215207\n",
            "sale Discription:{'Item Name': 'samosa', 'Item Quantity': 4, 'Item Rate': 10.0, 'Amount': 40.0}\n",
            "Sale Date:2021-09-03 23:19:14.787175\n",
            "sale Discription:{'Item Name': 'Wada Pav', 'Item Quantity': 20, 'Item Rate': 15.0, 'Amount': 300.0}\n",
            "Sale Date:2021-09-04 17:45:12.462812\n",
            "sale Discription:{'Item Name': 'Wada Pav', 'Item Quantity': 5, 'Item Rate': 15.0, 'Amount': 75.0}\n",
            "Sale Date:2021-09-04 17:52:22.592896\n",
            "sale Discription:{'Item Name': 'Wada Pav', 'Item Quantity': 9, 'Item Rate': 15.0, 'Amount': 135.0}\n",
            "Sale Date:2021-09-04 17:53:33.437146\n",
            "sale Discription:{'Item Name': 'Wada Pav', 'Item Quantity': 12, 'Item Rate': 15.0, 'Amount': 180.0}\n",
            "Sale Date:2021-09-04 17:56:59.390534\n",
            "sale Discription:{'Item Name': 'momos', 'Item Quantity': 6, 'Item Rate': 130.0, 'Amount': 780.0}\n",
            "Sale Date:2021-09-04 18:05:30.233153\n",
            "sale Discription:{'Item Name': 'momos', 'Item Quantity': 7, 'Item Rate': 130.0, 'Amount': 910.0}\n"
          ]
        }
      ]
    },
    {
      "cell_type": "code",
      "metadata": {
        "id": "KxSd9YWs4Tkn"
      },
      "source": [
        ""
      ],
      "execution_count": null,
      "outputs": []
    }
  ]
}